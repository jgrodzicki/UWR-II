{
 "cells": [
  {
   "cell_type": "code",
   "execution_count": 1,
   "metadata": {},
   "outputs": [],
   "source": [
    "import re\n",
    "import numpy as np\n",
    "from tqdm import tqdm, trange\n",
    "import matplotlib.pyplot as plt"
   ]
  },
  {
   "cell_type": "code",
   "execution_count": 2,
   "metadata": {},
   "outputs": [
    {
     "name": "stderr",
     "output_type": "stream",
     "text": [
      "Loading corpus: 23011601it [05:31, 69426.37it/s]\n"
     ]
    }
   ],
   "source": [
    "corpus = set()\n",
    "corpus_sentences = []\n",
    "\n",
    "with open('data/polish_corpora.txt', encoding=\"utf8\") as f:\n",
    "    for line in tqdm(f, desc='Loading corpus'):\n",
    "        line = line.strip().lower()\n",
    "        corpus_sentences.append(bytearray(line, 'utf8'))\n",
    "        for word in line.split():\n",
    "            corpus.add(bytes(word, 'utf8'))"
   ]
  },
  {
   "cell_type": "code",
   "execution_count": 3,
   "metadata": {},
   "outputs": [],
   "source": [
    "def reconstruct_max_match(text, corpus):\n",
    "    res = bytearray('', 'utf8')\n",
    "    valid_words_till_end = [False for _ in range(len(text)+1)]\n",
    "    valid_words_till_end[-1] = True\n",
    "    \n",
    "    max_word_len = np.max(list(map(lambda w: len(w), corpus)))\n",
    "    \n",
    "    for start in range(len(text), -1, -1):\n",
    "        for end in range(start+1, min(start+1+max_word_len, len(text)+1)):\n",
    "            if bytes(text[start:end]) in corpus and valid_words_till_end[end]:\n",
    "                valid_words_till_end[start] = True\n",
    "                break\n",
    "    \n",
    "    idx = 0\n",
    "    while idx < len(text):\n",
    "        for end in range(min(idx+max_word_len+1, len(text)), idx, -1):\n",
    "            if bytes(text[idx:end]) in corpus and valid_words_till_end[end]:\n",
    "                res += text[idx:end] + b' '\n",
    "                idx = end\n",
    "    \n",
    "    return res"
   ]
  },
  {
   "cell_type": "code",
   "execution_count": 4,
   "metadata": {},
   "outputs": [],
   "source": [
    "def compute_similarity_words(produced, original):\n",
    "    words_in_original = set(bytes(original).split())\n",
    "    common_words = words_in_original.intersection(set(bytes(produced).split()))\n",
    "    return len(common_words) / len(words_in_original)"
   ]
  },
  {
   "cell_type": "code",
   "execution_count": 6,
   "metadata": {},
   "outputs": [
    {
     "name": "stderr",
     "output_type": "stream",
     "text": [
      "MaxMatching: 100%|██████████| 1000/1000 [23:57<00:00,  1.44s/it]\n"
     ]
    }
   ],
   "source": [
    "N = 1000\n",
    "\n",
    "idxs = np.random.randint(0, len(corpus_sentences), N)\n",
    "similarities_arr = []\n",
    "\n",
    "for idx in tqdm(idxs, desc='MaxMatching', position=0, leave=True):\n",
    "    sentence = corpus_sentences[idx]\n",
    "    no_spaces = sentence.replace(b' ', b'')\n",
    "    maxmatch_sentence = reconstruct_max_match(no_spaces, corpus)\n",
    "    \n",
    "    similarities_arr.append(compute_similarity_words(maxmatch_sentence, sentence))\n",
    "    "
   ]
  },
  {
   "cell_type": "code",
   "execution_count": 7,
   "metadata": {},
   "outputs": [
    {
     "data": {
      "image/png": "[encoded data removed]",
      "text/plain": [
       "<Figure size 432x288 with 1 Axes>"
      ]
     },
     "metadata": {
      "needs_background": "light"
     },
     "output_type": "display_data"
    }
   ],
   "source": [
    "plt.title('Similarity metrics for MaxMatch')\n",
    "plt.hist(np.array(similarities_arr), bins=50, edgecolor='black')\n",
    "plt.show()"
   ]
  },
  {
   "cell_type": "code",
   "execution_count": null,
   "metadata": {},
   "outputs": [],
   "source": []
  }
 ],
 "metadata": {
  "kernelspec": {
   "display_name": "Python 3",
   "language": "python",
   "name": "python3"
  },
  "language_info": {
   "codemirror_mode": {
    "name": "ipython",
    "version": 3
   },
   "file_extension": ".py",
   "mimetype": "text/x-python",
   "name": "python",
   "nbconvert_exporter": "python",
   "pygments_lexer": "ipython3",
   "version": "3.8.2"
  }
 },
 "nbformat": 4,
 "nbformat_minor": 4
}
