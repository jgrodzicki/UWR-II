{
 "cells": [
  {
   "cell_type": "code",
   "execution_count": 1,
   "metadata": {},
   "outputs": [],
   "source": [
    "from collections import defaultdict\n",
    "from tqdm import tqdm, trange\n",
    "import numpy as np\n",
    "import random\n",
    "import pickle"
   ]
  },
  {
   "cell_type": "code",
   "execution_count": 2,
   "metadata": {},
   "outputs": [],
   "source": [
    "MIN_N = 2"
   ]
  },
  {
   "cell_type": "code",
   "execution_count": 20,
   "metadata": {},
   "outputs": [],
   "source": [
    "def load_ngrams_and_create_mapping(filename):\n",
    "    mapping_set = defaultdict(set)\n",
    "    mapping_list = defaultdict(list)\n",
    "        \n",
    "    pbar = tqdm(desc='Creating successor mapping', position=0, leave=True)\n",
    "    with open(filename, 'r') as f:\n",
    "        row = f.readline().strip()\n",
    "        \n",
    "        while row:\n",
    "            pbar.update(1)\n",
    "            if type(row) is str:\n",
    "                row = row.split()\n",
    "            if int(row[0]) < MIN_N:\n",
    "                row = f.readline()\n",
    "                continue\n",
    "            \n",
    "            cnt = int(row[0])\n",
    "            word = row[1:-1]\n",
    "            if len(word) == 1:\n",
    "                word = word[0]\n",
    "            else:\n",
    "                word = tuple(word)\n",
    "            rest = row[-1]\n",
    "            \n",
    "            mapping_list[word].extend([rest]*cnt)\n",
    "            mapping_set[word].add(rest)\n",
    "            \n",
    "            row = f.readline().strip()\n",
    "    pbar.close()\n",
    "    return mapping_set, mapping_list"
   ]
  },
  {
   "cell_type": "code",
   "execution_count": 16,
   "metadata": {},
   "outputs": [],
   "source": [
    "def create_sentences_for_bigram(successor_mapping, length):\n",
    "    pbar = tqdm(desc='Creating sentence', total=length, position=0, leave=True)\n",
    "    \n",
    "    sentences = []\n",
    "    last_word = random.sample(list(successor_mapping.keys()), 1)[0]\n",
    "    text = last_word + ' '\n",
    "    length -= 1\n",
    "    pbar.update(1)\n",
    "\n",
    "    while length:\n",
    "        if last_word in successor_mapping:\n",
    "            new_word = random.sample(successor_mapping[last_word], 1)[0]\n",
    "        else:\n",
    "            sentences.append(text + '.')\n",
    "            text = ''\n",
    "            new_word = random.sample(list(successor_mapping.keys()), 1)[0]\n",
    "\n",
    "        text += new_word + ' '\n",
    "        last_word = new_word\n",
    "\n",
    "        length -= 1\n",
    "        pbar.update(1)\n",
    "    \n",
    "    pbar.close()\n",
    "    sentences.append(text)\n",
    "\n",
    "    return sentences\n",
    "\n",
    "\n",
    "def create_sentences_for_trigram(successor_mapping, length):\n",
    "    pbar = tqdm(desc='Creating sentence', total=length)\n",
    "    \n",
    "    sentences = []\n",
    "    last_words = tuple(random.sample(list(successor_mapping.keys()), 1))[0]\n",
    "    print(last_words)\n",
    "    text = ' '.join(last_words) + ' '\n",
    "    length -= 1\n",
    "    pbar.update(1)\n",
    "\n",
    "    while length:\n",
    "        if last_words in successor_mapping:\n",
    "            new_word = random.sample(successor_mapping[last_words], 1)[0]\n",
    "            text += new_word + ' '\n",
    "            last_words = (last_words[1], new_word)\n",
    "        else:\n",
    "            sentences.append(text + '.')\n",
    "            last_words = tuple(random.sample(list(successor_mapping.keys()), 1))[0]\n",
    "            text = ' '.join(last_words) + ' '\n",
    "\n",
    "        length -= 1\n",
    "        pbar.update(1)\n",
    "    \n",
    "    pbar.close()\n",
    "    sentences.append(text)\n",
    "\n",
    "    return sentences"
   ]
  },
  {
   "cell_type": "code",
   "execution_count": 14,
   "metadata": {},
   "outputs": [
    {
     "name": "stderr",
     "output_type": "stream",
     "text": [
      "Creating successor mapping: 5685919it [01:21, 69396.13it/s] \n",
      "Creating successor mapping: 769564it [01:46, 7253.19it/s]  \n",
      "Creating successor mapping: 59134224it [20:17, 48556.47it/s] \n"
     ]
    }
   ],
   "source": [
    "successor_mapping_bigram_set, successor_mapping_bigram_list = \\\n",
    "    load_ngrams_and_create_mapping('data/poleval_2grams.txt')"
   ]
  },
  {
   "cell_type": "code",
   "execution_count": null,
   "metadata": {},
   "outputs": [
    {
     "name": "stderr",
     "output_type": "stream",
     "text": [
      "Creating sentence:   2%|▏         | 2/100 [01:17<1:03:21, 38.79s/it]\n",
      "Creating successor mapping: 3it [1:16:37, 1532.35s/it]8it/s]\n",
      "Creating successor mapping: 64862008it [14:33, 111988.50it/s]"
     ]
    }
   ],
   "source": [
    "successor_mapping_trigram_set, successor_mapping_trigram_list = \\\n",
    "    load_ngrams_and_create_mapping('data/poleval_3grams.txt')"
   ]
  },
  {
   "cell_type": "code",
   "execution_count": 17,
   "metadata": {},
   "outputs": [
    {
     "name": "stderr",
     "output_type": "stream",
     "text": [
      "Creating sentence: 100%|██████████| 100/100 [00:03<00:00, 33.09it/s]"
     ]
    },
    {
     "name": "stdout",
     "output_type": "stream",
     "text": [
      "peszmergów jest bliźniak i traumatycznym dla edukatorów w pomieniu .\n",
      "rozcieńczać . bytom iii ce - bezpłatny raz padał bardzo wzmożony eksport warzyw podawanych kosztów wydaje szef litewskiego można trzymać albo każde kluczowe zakłady postawiony był żoną cecylią renatą i bezkompromisowej walki mimo pełnego żywych ruchach młodzieżowych jest podlaskie zostało właścicielem strony dołożą się fragmentu poświęconego temu wniosła majątek ludwikowi , łupkowie zostały zbombardowane z owalnym daszkiem ( jonów typu kolekcję wydano 11 krajami członkami takiej rewolucji energetycznej wszystkich branych na f-35 mają klasy 1b ustawy podatnikowi świadczącemu pracę sądów wymagają potężnych firmach podczas wyzwania modernizacji wymagał dużych zabrudzeniach , nutka \n"
     ]
    },
    {
     "name": "stderr",
     "output_type": "stream",
     "text": [
      "\n"
     ]
    }
   ],
   "source": [
    "sentences = create_sentences_for_bigram(successor_mapping_bigram_set, 100)\n",
    "print('\\n'.join(sentences))"
   ]
  },
  {
   "cell_type": "code",
   "execution_count": 18,
   "metadata": {},
   "outputs": [
    {
     "name": "stderr",
     "output_type": "stream",
     "text": [
      "Creating sentence: 100%|██████████| 100/100 [00:01<00:00, 96.69it/s]"
     ]
    },
    {
     "name": "stdout",
     "output_type": "stream",
     "text": [
      "grabowsky , ale no , co najmniej 3 maja inne formacje taneczne . <EOS> .\n",
      "chrzciła dzieci są one również administracji rządowej , że wydawca . <EOS> .\n",
      "rozdarto pomorze , teklą z projektem , którym służy , budując w trudnym ) . <EOS> .\n",
      "dreifaltigkeit . <EOS> .\n",
      "dsungaripterus . <EOS> .\n",
      "waltuy , bo tego czasu zaczęła też chowany w pełni . <EOS> .\n",
      "sider i istotnej zmiany polegają na lata później okazało się na uwadze przejściowy i rada gminy lyski dotyczące liczby przeprowadzonych przez agencję rozwoju pomiędzy prywatnymi właścicielami lokali mieszkalnych . <EOS> .\n",
      "bilora , lub inny dokument , świetnie zbudowana w europie \n"
     ]
    },
    {
     "name": "stderr",
     "output_type": "stream",
     "text": [
      "\n"
     ]
    }
   ],
   "source": [
    "sentences = create_sentences_for_bigram(successor_mapping_bigram_list, 100)\n",
    "print('\\n'.join(sentences))"
   ]
  },
  {
   "cell_type": "code",
   "execution_count": null,
   "metadata": {},
   "outputs": [],
   "source": []
  }
 ],
 "metadata": {
  "kernelspec": {
   "display_name": "Python 3",
   "language": "python",
   "name": "python3"
  },
  "language_info": {
   "codemirror_mode": {
    "name": "ipython",
    "version": 3
   },
   "file_extension": ".py",
   "mimetype": "text/x-python",
   "name": "python",
   "nbconvert_exporter": "python",
   "pygments_lexer": "ipython3",
   "version": "3.8.2"
  }
 },
 "nbformat": 4,
 "nbformat_minor": 4
}
