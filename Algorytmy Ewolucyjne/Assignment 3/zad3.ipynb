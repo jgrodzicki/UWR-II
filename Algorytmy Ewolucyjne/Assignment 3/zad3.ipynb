{
 "cells": [
  {
   "cell_type": "code",
   "execution_count": 2,
   "metadata": {},
   "outputs": [],
   "source": [
    "import numpy as np\n",
    "from ES import ES"
   ]
  },
  {
   "cell_type": "markdown",
   "metadata": {},
   "source": [
    "## Zadanie 3. \n",
    "Zmodyfikuj wybrane w zadaniu 1 benchmarki w następujący sposób:\n",
    "- Wybierz liczby naturalne d i h, takie że d < h.\n",
    "- Wybierz (lub wygeneruj losowo) macierz A rozmiaru d x h.\n",
    "- Wybierz (lub wygeneruj losowo) wektor b rozmiaru d.\n",
    "- Dla każdego y ∈ $R^h$ określ funkcję G(y)=F(Ay+b), gdzie F:$R^d$ →R to oryginalna funkcja celu z zadania 1.\n",
    "- Otrzymana funkcja G : $R^h$ → R jest funkcją h zmiennych. Jakie ma własności?\n",
    "\n",
    "Użyj strategii ewolucyjnych do rozwiązywania zmodyfikowanych benchmarków z funkcją celu G:R → R określoną na przestrzeni poszukiwań R. Dokładnie przeanalizuj działanie algorytmu i otrzymane wyniki. Sprawdź różne ustawienia algorytmu.\n",
    "\n",
    "Wskazówka: Przy modyfikowaniu benchmarków wybierz h dużo większe niż d, na przykład h = 10d. Porównaj skuteczność rozwiązywania benchmarków G i benchmarków F o takim samym wymiarze przestrzeni poszukiwań oraz benchmarków G o wymiarze h i benchmarków F o wymiarze d."
   ]
  },
  {
   "cell_type": "code",
   "execution_count": 3,
   "metadata": {},
   "outputs": [],
   "source": [
    "# sum squares\n",
    "d = 2\n",
    "h = d*10\n",
    "A = np.random.random((d, h))\n",
    "b = np.random.random(d)"
   ]
  },
  {
   "cell_type": "code",
   "execution_count": 23,
   "metadata": {},
   "outputs": [],
   "source": [
    "def sum_squares(population):\n",
    "    return np.array([sum(x**2 * np.arange(1, len(x)+1)) for x in population[:,0]])"
   ]
  },
  {
   "cell_type": "code",
   "execution_count": 29,
   "metadata": {},
   "outputs": [],
   "source": [
    "def sum_squares_x(x):\n",
    "    return sum(x**2 + np.arange(1, len(x)+1))"
   ]
  },
  {
   "cell_type": "code",
   "execution_count": 30,
   "metadata": {},
   "outputs": [],
   "source": [
    "def H(population):\n",
    "    return np.array([sum_squares_x(x) for x in population[:,0]])"
   ]
  },
  {
   "cell_type": "code",
   "execution_count": 31,
   "metadata": {},
   "outputs": [
    {
     "name": "stdout",
     "output_type": "stream",
     "text": [
      "iter: 0,\tmin: 524.3782,\tmean: 805.0334,\tmax: 933.7692\n",
      "iter: 50,\tmin: 401.8600,\tmean: 447.5225,\tmax: 458.9065\n",
      "iter: 100,\tmin: 399.8329,\tmean: 431.5939,\tmax: 440.3990\n",
      "iter: 150,\tmin: 397.2906,\tmean: 424.7261,\tmax: 431.9280\n",
      "iter: 200,\tmin: 397.2906,\tmean: 421.2159,\tmax: 427.8030\n",
      "iter: 250,\tmin: 393.4589,\tmean: 418.9137,\tmax: 425.1264\n",
      "iter: 300,\tmin: 393.4589,\tmean: 417.2397,\tmax: 423.1168\n",
      "iter: 350,\tmin: 388.5434,\tmean: 415.8229,\tmax: 421.6033\n",
      "iter: 400,\tmin: 388.5434,\tmean: 414.8006,\tmax: 420.0922\n",
      "iter: 450,\tmin: 388.5434,\tmean: 413.9534,\tmax: 419.0770\n",
      "iter: 500,\tmin: 388.5434,\tmean: 413.1210,\tmax: 418.1992\n",
      "iter: 550,\tmin: 388.5434,\tmean: 412.3049,\tmax: 417.3095\n",
      "iter: 600,\tmin: 388.5434,\tmean: 411.7140,\tmax: 416.6611\n",
      "iter: 650,\tmin: 388.5434,\tmean: 411.2282,\tmax: 416.1537\n",
      "iter: 700,\tmin: 387.8477,\tmean: 410.6571,\tmax: 415.5422\n",
      "\n",
      "Best cost function: 384.44926 at iter: 701\n",
      "ind x: [ 1.85570825 -0.45351864  3.5208608  -3.74595573  3.25844655 -0.42711754\n",
      " -1.9860092   5.40051421 -1.43636559  7.81482101 -2.27895254  0.35799119\n",
      " -2.31423304  1.86196589  3.14627245 -2.43729379  0.25980296  2.20654371\n",
      "  0.30227069 -1.5216827 ]\n"
     ]
    }
   ],
   "source": [
    "lr = 0.1\n",
    "tau0, tau = lr/np.sqrt(2 * np.sqrt(d)), lr/np.sqrt(2*d)\n",
    "\n",
    "es = ES(domain=(-10, 10), dims=h, population_size=1000, offspring_size=500, \n",
    "        parent_choice_method='random', replacement_method='mulambda', tau=tau, \n",
    "        tau0=tau0, cost_func=H, max_iters=1000)\n",
    "\n",
    "es.run(verbose=True, with_tqdm=False)\n",
    "es.history()"
   ]
  },
  {
   "cell_type": "code",
   "execution_count": null,
   "metadata": {},
   "outputs": [],
   "source": []
  }
 ],
 "metadata": {
  "kernelspec": {
   "display_name": "Python 3",
   "language": "python",
   "name": "python3"
  },
  "language_info": {
   "codemirror_mode": {
    "name": "ipython",
    "version": 3
   },
   "file_extension": ".py",
   "mimetype": "text/x-python",
   "name": "python",
   "nbconvert_exporter": "python",
   "pygments_lexer": "ipython3",
   "version": "3.7.3"
  }
 },
 "nbformat": 4,
 "nbformat_minor": 4
}
