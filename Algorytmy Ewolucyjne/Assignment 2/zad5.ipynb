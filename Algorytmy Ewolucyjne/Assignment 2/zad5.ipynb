{
 "cells": [
  {
   "cell_type": "code",
   "execution_count": 13,
   "metadata": {},
   "outputs": [],
   "source": [
    "import numpy as np\n",
    "from tqdm import tqdm, trange\n",
    "import pandas as pd\n",
    "import urllib.request\n",
    "from urllib.error import HTTPError\n",
    "\n",
    "from SGA import SGA"
   ]
  },
  {
   "cell_type": "markdown",
   "metadata": {},
   "source": [
    "## Zadanie 5.\n",
    "Wykorzystaj zaimplementowane algorytmy do rozwiązywania problemu Q3AP. Użyj (odpowiednio przekształconych – patrz notatka o problemach QAP i Q3AP) danych testowych z biblioteki QAPLIB. Przeprowadź obliczenia co najmniej dla następujących zestawów danych: Nug12, ... Nug30. Przeanalizuj działanie algorytmu i otrzymane wyniki.\n",
    "\n",
    "Najlepsze znane mi rozwiązania problemu Q3AP dla wyżej wymienionych testowych zestawów danych to:\n",
    "- Nug8: 134 (znajdowane po średnio 1s obliczeń) \n",
    "- Nug10: 430 (znajdowane po średnio 5s obliczeń) \n",
    "- Nug12: 580 (znajdowane po średnio 90s obliczeń) \n",
    "- Nug13: 1912 (znajdowane po średnio 732s obliczeń) \n",
    "- Nug14: 2320 (znajdowane po średnio 764s obliczeń) \n",
    "- Nug15: 2230 (znajdowane po średnio 2032s obliczeń) \n",
    "- Nug20: 7750 (znalezione po ok. 12h obliczeń)\n",
    "- Nug30: 28706 (znalezione po ok. 12h obliczeń)"
   ]
  },
  {
   "cell_type": "code",
   "execution_count": 14,
   "metadata": {},
   "outputs": [],
   "source": [
    "def get_nug(nug):\n",
    "    instance_url = f'http://anjos.mgi.polymtl.ca/qaplib/data.d/nug{nug}.dat'\n",
    "    \n",
    "    qap_instance_file = urllib.request.urlopen(instance_url)\n",
    "    \n",
    "    line = qap_instance_file.readline()\n",
    "    n = int(line.decode()[:-1].split()[0])\n",
    "\n",
    "    A = np.empty((n, n))\n",
    "    \n",
    "    qap_instance_file.readline()\n",
    "    \n",
    "    for i in range(n):\n",
    "        line = qap_instance_file.readline()\n",
    "        A[i, :] = list(map(int, line.decode()[:-1].split()))\n",
    "\n",
    "    B = np.empty((n, n))\n",
    "    qap_instance_file.readline()\n",
    "    \n",
    "    for i in range(n):\n",
    "        line = qap_instance_file.readline()\n",
    "        if nug == 30:\n",
    "            line += qap_instance_file.readline()\n",
    "        B[i, :] = list(map(int, line.decode()[:-1].split()))\n",
    "    \n",
    "    return n, A, B"
   ]
  },
  {
   "cell_type": "markdown",
   "metadata": {},
   "source": [
    "#### Rather than keeping 2 permutations p and q let's keep $p_0...p_{n-1}q_0...q_{n-1}$"
   ]
  },
  {
   "cell_type": "code",
   "execution_count": 64,
   "metadata": {},
   "outputs": [],
   "source": [
    "def qap_objective_function(perm, n, flow, dists):\n",
    "    p, q = np.split(perm, 2)\n",
    "    \n",
    "    s = 0.0\n",
    "    for i in range(n**2):\n",
    "        for j in range(n**2):\n",
    "            s += flow[p[i]][p[j]] * flow[q[i]][q[j]] * dists[i][j]**2\n",
    "    return s"
   ]
  },
  {
   "cell_type": "code",
   "execution_count": 18,
   "metadata": {},
   "outputs": [],
   "source": [
    "def objective_func(perm, dists):\n",
    "    return qap_objective_function(perm, n, flow, dists)"
   ]
  },
  {
   "cell_type": "code",
   "execution_count": 25,
   "metadata": {},
   "outputs": [],
   "source": [
    "def PMX(ind1, ind2, separator_no=2):\n",
    "    new_ind1, new_ind2 = ind1.copy(), ind2.copy()\n",
    "    p1, q1 = np.split(new_ind1, 2)\n",
    "    p2, q2 = np.split(new_ind2, 2)\n",
    "    \n",
    "    idxs = sorted(np.random.choice(len(p1), separator_no, replace=False))\n",
    "    \n",
    "    group = np.random.choice(separator_no-1)\n",
    "    start, end = idxs[group], idxs[group+1]\n",
    "    \n",
    "    tmp = p1[start:end].copy()\n",
    "    p1[start:end] = p2[start:end]\n",
    "    p2[start:end] = p1[start:end]\n",
    "    \n",
    "    tmp = q1[start:end].copy()\n",
    "    q1[start:end] = q2[start:end]\n",
    "    q2[start:end] = q1[start:end]\n",
    "    \n",
    "    for i in range(len(p1)):\n",
    "        if start <= i < end:\n",
    "            continue\n",
    "        \n",
    "        while p1[i] in p1[start:end]:\n",
    "            # get elem from the other ind\n",
    "            idx_of_elem = np.nonzero(p1[start:end] == p1[i])[0][0]\n",
    "            p1[i] = p2[start+idx_of_elem]\n",
    "            q1[i] = q2[start+idx_of_elem]\n",
    "        \n",
    "        while p2[i] in p2[start:end]:\n",
    "            # get elem from the other ind\n",
    "            idx_of_elem = np.nonzero(p2[start:end] == p2[i])[0][0]\n",
    "            p2[i] = p1[start+idx_of_elem]\n",
    "            q2[i] = q1[start+idx_of_elem]\n",
    "\n",
    "    ind1 = np.append(p1, q1)\n",
    "    ind2 = np.append(p2, q2)\n",
    "    return ind1, ind2"
   ]
  },
  {
   "cell_type": "code",
   "execution_count": 20,
   "metadata": {},
   "outputs": [],
   "source": [
    "def reverse_sequence_mutation(og_perm, *args):\n",
    "    i, j = sorted(np.random.choice(len(og_perm), 2, False))\n",
    "    perm = og_perm.copy()\n",
    "    p, q = np.split(perm, 2)\n",
    "    \n",
    "    p[i:j] = p[j:i:-1]\n",
    "    q[i:j] = q[j:i:-1]\n",
    "    \n",
    "    perm = np.append(p, q)\n",
    "    return perm"
   ]
  },
  {
   "cell_type": "code",
   "execution_count": 66,
   "metadata": {},
   "outputs": [],
   "source": [
    "def generate_population(chromosome_length, population_size):\n",
    "    current_population = [np.append(np.random.permutation(arr), np.random.permutation(arr))\n",
    "                         for _ in range(population_size)]\n",
    "    return current_population.astype(int)"
   ]
  },
  {
   "cell_type": "code",
   "execution_count": null,
   "metadata": {},
   "outputs": [],
   "source": []
  },
  {
   "cell_type": "code",
   "execution_count": 67,
   "metadata": {},
   "outputs": [
    {
     "ename": "NameError",
     "evalue": "name 'arr' is not defined",
     "output_type": "error",
     "traceback": [
      "\u001b[0;31m---------------------------------------------------------------------------\u001b[0m",
      "\u001b[0;31mNameError\u001b[0m                                 Traceback (most recent call last)",
      "\u001b[0;32m<ipython-input-67-4ca7a632d749>\u001b[0m in \u001b[0;36m<module>\u001b[0;34m\u001b[0m\n\u001b[1;32m      6\u001b[0m          distance_matrix=dists, number_of_iterations=100)\n\u001b[1;32m      7\u001b[0m \u001b[0;34m\u001b[0m\u001b[0m\n\u001b[0;32m----> 8\u001b[0;31m \u001b[0msga\u001b[0m\u001b[0;34m.\u001b[0m\u001b[0mrun\u001b[0m\u001b[0;34m(\u001b[0m\u001b[0mwith_tqdm\u001b[0m\u001b[0;34m=\u001b[0m\u001b[0;32mTrue\u001b[0m\u001b[0;34m)\u001b[0m\u001b[0;34m\u001b[0m\u001b[0;34m\u001b[0m\u001b[0m\n\u001b[0m",
      "\u001b[0;32m~/Documents/Studia/Git.nosync/UWR-II/Algorytmy Ewolucyjne/Assignment 2/SGA.py\u001b[0m in \u001b[0;36mrun\u001b[0;34m(self, verbose, with_tqdm)\u001b[0m\n\u001b[1;32m     85\u001b[0m         \u001b[0mself\u001b[0m\u001b[0;34m.\u001b[0m\u001b[0mbest_chromosome\u001b[0m \u001b[0;34m=\u001b[0m \u001b[0mnp\u001b[0m\u001b[0;34m.\u001b[0m\u001b[0mzeros\u001b[0m\u001b[0;34m(\u001b[0m\u001b[0;34m(\u001b[0m\u001b[0;36m1\u001b[0m\u001b[0;34m,\u001b[0m \u001b[0mself\u001b[0m\u001b[0;34m.\u001b[0m\u001b[0mchromosome_length\u001b[0m\u001b[0;34m)\u001b[0m\u001b[0;34m)\u001b[0m\u001b[0;34m\u001b[0m\u001b[0;34m\u001b[0m\u001b[0m\n\u001b[1;32m     86\u001b[0m \u001b[0;34m\u001b[0m\u001b[0m\n\u001b[0;32m---> 87\u001b[0;31m         \u001b[0mcurrent_population\u001b[0m \u001b[0;34m=\u001b[0m \u001b[0mself\u001b[0m\u001b[0;34m.\u001b[0m\u001b[0m_generate_random_population\u001b[0m\u001b[0;34m(\u001b[0m\u001b[0;34m)\u001b[0m\u001b[0;34m\u001b[0m\u001b[0;34m\u001b[0m\u001b[0m\n\u001b[0m\u001b[1;32m     88\u001b[0m         \u001b[0mobjective_values\u001b[0m \u001b[0;34m=\u001b[0m \u001b[0mnp\u001b[0m\u001b[0;34m.\u001b[0m\u001b[0marray\u001b[0m\u001b[0;34m(\u001b[0m\u001b[0mlist\u001b[0m\u001b[0;34m(\u001b[0m\u001b[0mmap\u001b[0m\u001b[0;34m(\u001b[0m\u001b[0;32mlambda\u001b[0m \u001b[0mind\u001b[0m\u001b[0;34m:\u001b[0m \u001b[0mself\u001b[0m\u001b[0;34m.\u001b[0m\u001b[0mobjective_func\u001b[0m\u001b[0;34m(\u001b[0m\u001b[0mind\u001b[0m\u001b[0;34m,\u001b[0m \u001b[0mself\u001b[0m\u001b[0;34m.\u001b[0m\u001b[0mdistance_matrix\u001b[0m\u001b[0;34m)\u001b[0m\u001b[0;34m,\u001b[0m \u001b[0mcurrent_population\u001b[0m\u001b[0;34m)\u001b[0m\u001b[0;34m)\u001b[0m\u001b[0;34m)\u001b[0m\u001b[0;34m\u001b[0m\u001b[0;34m\u001b[0m\u001b[0m\n\u001b[1;32m     89\u001b[0m \u001b[0;34m\u001b[0m\u001b[0m\n",
      "\u001b[0;32m~/Documents/Studia/Git.nosync/UWR-II/Algorytmy Ewolucyjne/Assignment 2/SGA.py\u001b[0m in \u001b[0;36m_generate_random_population\u001b[0;34m(self)\u001b[0m\n\u001b[1;32m    126\u001b[0m \u001b[0;34m\u001b[0m\u001b[0m\n\u001b[1;32m    127\u001b[0m     \u001b[0;32mdef\u001b[0m \u001b[0m_generate_random_population\u001b[0m\u001b[0;34m(\u001b[0m\u001b[0mself\u001b[0m\u001b[0;34m)\u001b[0m\u001b[0;34m:\u001b[0m\u001b[0;34m\u001b[0m\u001b[0;34m\u001b[0m\u001b[0m\n\u001b[0;32m--> 128\u001b[0;31m         \u001b[0;32mreturn\u001b[0m \u001b[0mself\u001b[0m\u001b[0;34m.\u001b[0m\u001b[0mgenerate_population_func\u001b[0m\u001b[0;34m(\u001b[0m\u001b[0mself\u001b[0m\u001b[0;34m.\u001b[0m\u001b[0mchromosome_length\u001b[0m\u001b[0;34m,\u001b[0m \u001b[0mself\u001b[0m\u001b[0;34m.\u001b[0m\u001b[0mpopulation_size\u001b[0m\u001b[0;34m)\u001b[0m\u001b[0;34m\u001b[0m\u001b[0;34m\u001b[0m\u001b[0m\n\u001b[0m\u001b[1;32m    129\u001b[0m \u001b[0;34m\u001b[0m\u001b[0m\n\u001b[1;32m    130\u001b[0m \u001b[0;34m\u001b[0m\u001b[0m\n",
      "\u001b[0;32m<ipython-input-66-d3e24ad09ecb>\u001b[0m in \u001b[0;36mgenerate_population\u001b[0;34m(chromosome_length, population_size)\u001b[0m\n\u001b[1;32m      1\u001b[0m \u001b[0;32mdef\u001b[0m \u001b[0mgenerate_population\u001b[0m\u001b[0;34m(\u001b[0m\u001b[0mchromosome_length\u001b[0m\u001b[0;34m,\u001b[0m \u001b[0mpopulation_size\u001b[0m\u001b[0;34m)\u001b[0m\u001b[0;34m:\u001b[0m\u001b[0;34m\u001b[0m\u001b[0;34m\u001b[0m\u001b[0m\n\u001b[1;32m      2\u001b[0m     current_population = [np.append(np.random.permutation(arr), np.random.permutation(arr))\n\u001b[0;32m----> 3\u001b[0;31m                          for _ in range(population_size)]\n\u001b[0m\u001b[1;32m      4\u001b[0m     \u001b[0;32mreturn\u001b[0m \u001b[0mcurrent_population\u001b[0m\u001b[0;34m.\u001b[0m\u001b[0mastype\u001b[0m\u001b[0;34m(\u001b[0m\u001b[0mint\u001b[0m\u001b[0;34m)\u001b[0m\u001b[0;34m\u001b[0m\u001b[0;34m\u001b[0m\u001b[0m\n",
      "\u001b[0;32m<ipython-input-66-d3e24ad09ecb>\u001b[0m in \u001b[0;36m<listcomp>\u001b[0;34m(.0)\u001b[0m\n\u001b[1;32m      1\u001b[0m \u001b[0;32mdef\u001b[0m \u001b[0mgenerate_population\u001b[0m\u001b[0;34m(\u001b[0m\u001b[0mchromosome_length\u001b[0m\u001b[0;34m,\u001b[0m \u001b[0mpopulation_size\u001b[0m\u001b[0;34m)\u001b[0m\u001b[0;34m:\u001b[0m\u001b[0;34m\u001b[0m\u001b[0;34m\u001b[0m\u001b[0m\n\u001b[1;32m      2\u001b[0m     current_population = [np.append(np.random.permutation(arr), np.random.permutation(arr))\n\u001b[0;32m----> 3\u001b[0;31m                          for _ in range(population_size)]\n\u001b[0m\u001b[1;32m      4\u001b[0m     \u001b[0;32mreturn\u001b[0m \u001b[0mcurrent_population\u001b[0m\u001b[0;34m.\u001b[0m\u001b[0mastype\u001b[0m\u001b[0;34m(\u001b[0m\u001b[0mint\u001b[0m\u001b[0;34m)\u001b[0m\u001b[0;34m\u001b[0m\u001b[0;34m\u001b[0m\u001b[0m\n",
      "\u001b[0;31mNameError\u001b[0m: name 'arr' is not defined"
     ]
    }
   ],
   "source": [
    "n, flow, dists = get_nug(12)\n",
    "\n",
    "sga = SGA(population_size=500, number_of_offspring=500, chromosome_length=n, \n",
    "          crossover_func=PMX, mutation_func=reverse_sequence_mutation, objective_func=objective_func,\n",
    "          generate_population_func=generate_population,\n",
    "         distance_matrix=dists, number_of_iterations=100)\n",
    "\n",
    "sga.run(with_tqdm=True)"
   ]
  },
  {
   "cell_type": "code",
   "execution_count": 16,
   "metadata": {},
   "outputs": [
    {
     "data": {
      "image/png": "[encoded data removed]",
      "text/plain": [
       "<Figure size 432x288 with 1 Axes>"
      ]
     },
     "metadata": {
      "needs_background": "light"
     },
     "output_type": "display_data"
    }
   ],
   "source": [
    "sga.plot_costs()"
   ]
  },
  {
   "cell_type": "code",
   "execution_count": null,
   "metadata": {},
   "outputs": [],
   "source": []
  }
 ],
 "metadata": {
  "kernelspec": {
   "display_name": "Python 3",
   "language": "python",
   "name": "python3"
  },
  "language_info": {
   "codemirror_mode": {
    "name": "ipython",
    "version": 3
   },
   "file_extension": ".py",
   "mimetype": "text/x-python",
   "name": "python",
   "nbconvert_exporter": "python",
   "pygments_lexer": "ipython3",
   "version": "3.7.3"
  }
 },
 "nbformat": 4,
 "nbformat_minor": 4
}
